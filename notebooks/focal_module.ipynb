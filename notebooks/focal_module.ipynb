{
 "cells": [
  {
   "attachments": {},
   "cell_type": "markdown",
   "id": "291d02ac-38a9-435e-b2c0-204a787dda2e",
   "metadata": {},
   "source": [
    "[![Open In Colab](https://colab.research.google.com/assets/colab-badge.svg)](https://colab.research.google.com/github/UM-RMRS/raster_tools/blob/main/notebooks/focal_module.ipynb)"
   ]
  },
  {
   "attachments": {},
   "cell_type": "markdown",
   "id": "69f0b07e-bdad-4954-8538-67549332a6da",
   "metadata": {},
   "source": [
    "# Raster Tools Focal Module\n",
    "## This notebook demonstrates the functionality of the Raster Tools focal module \n",
    "by John Hogland 4/20/2023"
   ]
  },
  {
   "attachments": {},
   "cell_type": "markdown",
   "id": "605b128b-73a9-4eb7-b1f9-e2efec2eb7c6",
   "metadata": {},
   "source": []
  },
  {
   "cell_type": "markdown",
   "id": "16ffc7e8-3215-418c-8db9-66ab27d7ee23",
   "metadata": {},
   "source": [
    "# Install software for Colab"
   ]
  },
  {
   "cell_type": "code",
   "execution_count": null,
   "id": "a84740a8-7ff0-4c8b-a1c8-53be5ec2320a",
   "metadata": {},
   "outputs": [],
   "source": [
    "!pip install --upgrade gdown\n",
    "!pip install --upgrade numba\n",
    "!pip install --upgrade geopandas\n",
    "!pip install mapclassify\n",
    "!pip install --upgrade datascience\n",
    "!pip install --upgrade gym\n",
    "!pip install --upgrade folium\n",
    "!pip install --upgrade ipyleaflet\n",
    "!pip install xarray_leaflet\n",
    "!pip install raster_tools\n",
    "!pip install py3dep==0.17.1\n",
    "!pip install localtileserver"
   ]
  },
  {
   "attachments": {},
   "cell_type": "markdown",
   "id": "b8108a3a-6ee9-46e2-9151-08d071d7ae8a",
   "metadata": {},
   "source": [
    "# The Process\n",
    "In this notebook we download USGS 3dep products that are publicly available and use raster_tools to perform focal type analyses. At each step in the notebook we will discuss various aspects of the data, processing techniques, and visualization. After completing this notebook you should be very familiar with how to use the focal module.\n",
    "## Steps\n",
    "- 1. Create an area of interest (Missoula MT; 46.8721° N, 113.9940° W)\n",
    "- 2. Use py3dep to download the dem for the area of interest\n",
    "- 3. Create surface rasters and use for focal module\n",
    "- 4. Use focal module & visualize outputs"
   ]
  },
  {
   "cell_type": "markdown",
   "id": "1a931bc6-6cb7-4624-b496-cf4f5964fb6c",
   "metadata": {},
   "source": [
    "## Step 1: Create an area of interest (Missoula MT; 46.8721° N, 113.9940° W)\n",
    "### Import various packages"
   ]
  },
  {
   "cell_type": "code",
   "execution_count": null,
   "id": "5d27e667-e1eb-47cf-a8e9-b74d1369e3c3",
   "metadata": {
    "tags": []
   },
   "outputs": [],
   "source": [
    "from raster_tools import Raster, general, surface, focal\n",
    "import py3dep\n",
    "import geopandas as gpd\n",
    "import numpy as np\n",
    "\n",
    "from shapely.geometry import shape, Polygon"
   ]
  },
  {
   "cell_type": "markdown",
   "id": "0a012218-5497-4c71-90dc-84b6871b38dd",
   "metadata": {},
   "source": [
    "### Define area of interest (AOI) using the coordinates of Missoula MT"
   ]
  },
  {
   "cell_type": "code",
   "execution_count": null,
   "id": "6a3dcc09-ba89-44ce-951a-22a409606764",
   "metadata": {
    "tags": []
   },
   "outputs": [],
   "source": [
    "loc = {\"type\": \"Point\", \"coordinates\": [-113.994, 46.8721]}\n",
    "\n",
    "geom = shape(loc)\n",
    "geom_buff = gpd.GeoSeries(\n",
    "    geom.buffer(0.02), crs=\"EPSG:4326\"\n",
    ")  # buffer out 0.02 degrees to get an area\n",
    "geom_buff.explore()  # visualize"
   ]
  },
  {
   "cell_type": "markdown",
   "id": "c3af42e5-00cc-4451-a21a-85c12aeba6bc",
   "metadata": {},
   "source": [
    "## Step 2: Get DEM data from USGS wms servers\n",
    "### Create a get_3dep_data function to download USGS data and return a Raster object"
   ]
  },
  {
   "cell_type": "code",
   "execution_count": null,
   "id": "97e77106-3325-4280-bcfa-dbb9bd8755d0",
   "metadata": {
    "tags": []
   },
   "outputs": [],
   "source": [
    "def get_3dep_data(sgeo, srv=\"DEM\", res=30, out_crs=None):\n",
    "    \"\"\"\n",
    "    downloads 3dep data from a specified service and resolution and returns a raster object\n",
    "\n",
    "    sgeo: object, polygon | mulipolygon | bounding box [minx, miny, maxx, maxy] used to extract data (WGS 84 - EPSG:4326)\n",
    "    srv: string, name of the 3dep service\n",
    "    res: int, spatial resolution\n",
    "    out_crs: object, optional crs used to project geopandas dataframe to a differnt crs\n",
    "\n",
    "    return: raster object\n",
    "    \"\"\"\n",
    "    ar = py3dep.get_map(srv, sgeo, resolution=res).expand_dims({\"band\": 1})\n",
    "    out_rs = Raster(ar)\n",
    "    if not out_crs is None:\n",
    "        out_rs = Raster(out_rs.xdata.rio.reproject(out_crs))\n",
    "\n",
    "    return out_rs"
   ]
  },
  {
   "cell_type": "markdown",
   "id": "1606e067-8132-4a6b-a2bd-bf23b8912a87",
   "metadata": {},
   "source": [
    "### Use get_3dep_data to download DEM for AOI (resolution 30 m) and save the raster."
   ]
  },
  {
   "cell_type": "code",
   "execution_count": null,
   "id": "27e4af30-a113-4a32-ad1d-d454c608faa3",
   "metadata": {
    "tags": []
   },
   "outputs": [],
   "source": [
    "elv = get_3dep_data(\n",
    "    list(geom_buff.total_bounds), srv=\"DEM\", res=30\n",
    ")  # data are returned in lat lon (WGS 84) with height in meters\n",
    "elv = elv.save(\"elv.tif\")"
   ]
  },
  {
   "attachments": {},
   "cell_type": "markdown",
   "id": "ad68b1f4",
   "metadata": {},
   "source": [
    "## Step3: Create surface rasters from dem (slope, aspect, northing, easting, curvature, 3d area, etc ) and stack each surface into a single multi-band raster"
   ]
  },
  {
   "cell_type": "code",
   "execution_count": null,
   "id": "ee1d882d",
   "metadata": {
    "tags": []
   },
   "outputs": [],
   "source": [
    "elv_p = Raster(elv.xdata.rio.reproject(\"EPSG:5070\"))  # reproject to Albers\n",
    "slp = surface.slope(\n",
    "    elv_p, degrees=True\n",
    ")  # slope: by default degrees to get percent set degrees flag to false\n",
    "asp = surface.aspect(elv_p)  # aspect\n",
    "curv = surface.curvature(elv_p)  # curvature\n",
    "north = surface.northing(\n",
    "    elv_p\n",
    ")  # northing assumes elevation raster alternatively one could specify a aspect raster\n",
    "east = surface.easting(\n",
    "    elv_p\n",
    ")  # easting assumes elevation raster alternatively one could specify a aspect raster\n",
    "s3d = surface.surface_area_3d(\n",
    "    elv_p\n",
    ")  # calculates 3d surface area after Jense, 2004\n",
    "hill = surface.hillshade(\n",
    "    elv_p\n",
    ")  # calculates hill shade; can specify azimuth and sun altitude\n",
    "tpi = surface.tpi(\n",
    "    elv_p, annulus_inner=0, annulus_outer=3\n",
    ")  # calculates tpi given a inner and outer radii\n",
    "\n",
    "elv_stack = general.band_concat(\n",
    "    [elv_p, slp, asp, curv, north, east, s3d, hill, tpi]\n",
    ")"
   ]
  },
  {
   "attachments": {},
   "cell_type": "markdown",
   "id": "9b08fe9a",
   "metadata": {},
   "source": [
    "## Step 4: Use focal module with surface rasters to do the following:\n",
    "- focal analysis: moving windows type analyses\n",
    "- convolution: convolution type analyses\n",
    "- correlation: correlation type analyses\n"
   ]
  },
  {
   "attachments": {},
   "cell_type": "markdown",
   "id": "77d94463",
   "metadata": {},
   "source": [
    "### Focal Analysis\n",
    "- for each focal type perform a 3 by 3 rectangular analysis\n",
    "- store each raster in a dictionary\n",
    "- plot the entropy results\n"
   ]
  },
  {
   "cell_type": "code",
   "execution_count": null,
   "id": "3bb0fdcd",
   "metadata": {},
   "outputs": [],
   "source": [
    "fdic = {}\n",
    "for s in focal.FOCAL_STATS:\n",
    "    fdic[s] = focal.focal(elv_stack, s, 3, 3)\n",
    "\n",
    "plt = fdic[\"entropy\"].plot(col=\"band\", col_wrap=3)"
   ]
  },
  {
   "attachments": {},
   "cell_type": "markdown",
   "id": "117ebc23",
   "metadata": {},
   "source": [
    "### Convolution Analysis\n",
    "|  |  |  |\n",
    "|--|--|--|\n",
    "| 0|-1| 0|\n",
    "|-1| 4|-1|\n",
    "| 0|-1| 0|\n",
    "\n",
    "plot the convolved slope data"
   ]
  },
  {
   "cell_type": "code",
   "execution_count": null,
   "id": "3fe551ff",
   "metadata": {},
   "outputs": [],
   "source": [
    "rs = focal.convolve(elv_stack, np.array([[0, -1, 0], [-1, 4, -1], [0, -1, 0]]))\n",
    "(rs.get_bands([3])).plot(robust=True)"
   ]
  },
  {
   "attachments": {},
   "cell_type": "markdown",
   "id": "8c0f1eae",
   "metadata": {},
   "source": [
    "### Correlation Analysis\n",
    "|  |  |  |\n",
    "|--|--|--|\n",
    "| 0|-1| 0|\n",
    "|-1| 4|-1|\n",
    "| 0|-1| 0|\n",
    "\n",
    "plot the correlated slope data"
   ]
  },
  {
   "cell_type": "code",
   "execution_count": null,
   "id": "83ccc8d8",
   "metadata": {},
   "outputs": [],
   "source": [
    "rs = focal.correlate(\n",
    "    elv_stack, np.array([[0, -1, 0], [-1, 4, -1], [0, -1, 0]])\n",
    ")\n",
    "(rs.get_bands([3])).plot(robust=True)"
   ]
  },
  {
   "attachments": {},
   "cell_type": "markdown",
   "id": "95a52ee7-9618-49b7-b912-5e13c75bd693",
   "metadata": {
    "tags": []
   },
   "source": [
    "# This ends the Raster Tools focal module notebook\n",
    "## Check out the other notebooks:\n",
    "- https://github.com/UM-RMRS/raster_tools/blob/main/notebooks/README.md\n",
    "## References\n",
    "- Raster-Tools GitHub: https://github.com/UM-RMRS/raster_tools\n",
    "- Hogland's Spatial Solutions: https://sites.google.com/view/hoglandsspatialsolutions/home\n",
    "- Dask: https://dask.org/\n",
    "- Geopandas:https://geopandas.org/en/stable/\n",
    "- Xarray: https://docs.xarray.dev/en/stable/\n",
    "- Jupyter: https://jupyter.org/\n",
    "- Anaconda:https://www.anaconda.com/\n",
    "- VS Code: https://code.visualstudio.com/\n",
    "- ipywidgets: https://ipywidgets.readthedocs.io/en/latest/\n",
    "- numpy:https://numpy.org/\n",
    "- matplotlib:https://matplotlib.org/\n",
    "- folium: https://python-visualization.github.io/folium/\n",
    "- pandas: https://pandas.pydata.org/\n",
    "- sklearn: https://scikit-learn.org/stable/index.html"
   ]
  }
 ],
 "metadata": {
  "kernelspec": {
   "display_name": "RStools Python 3.10",
   "language": "python",
   "name": "python3"
  },
  "language_info": {
   "codemirror_mode": {
    "name": "ipython",
    "version": 3
   },
   "file_extension": ".py",
   "mimetype": "text/x-python",
   "name": "python",
   "nbconvert_exporter": "python",
   "pygments_lexer": "ipython3",
   "version": "3.10.10"
  }
 },
 "nbformat": 4,
 "nbformat_minor": 5
}
