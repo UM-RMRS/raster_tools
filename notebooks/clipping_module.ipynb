{
 "cells": [
  {
   "attachments": {},
   "cell_type": "markdown",
   "id": "291d02ac-38a9-435e-b2c0-204a787dda2e",
   "metadata": {},
   "source": [
    "[![Open In Colab](https://colab.research.google.com/assets/colab-badge.svg)](https://colab.research.google.com/github/UM-RMRS/raster_tools/blob/main/notebooks/clipping_module.ipynb)"
   ]
  },
  {
   "attachments": {},
   "cell_type": "markdown",
   "id": "69f0b07e-bdad-4954-8538-67549332a6da",
   "metadata": {},
   "source": [
    "# Raster Tools clipping Module\n",
    "## This notebook demonstrates the functionality of the Raster Tools clipping module \n",
    "by John Hogland 4/20/2023"
   ]
  },
  {
   "attachments": {},
   "cell_type": "markdown",
   "id": "605b128b-73a9-4eb7-b1f9-e2efec2eb7c6",
   "metadata": {},
   "source": []
  },
  {
   "cell_type": "markdown",
   "id": "16ffc7e8-3215-418c-8db9-66ab27d7ee23",
   "metadata": {},
   "source": [
    "# Install software for Colab"
   ]
  },
  {
   "cell_type": "code",
   "execution_count": null,
   "id": "a84740a8-7ff0-4c8b-a1c8-53be5ec2320a",
   "metadata": {},
   "outputs": [],
   "source": [
    "!pip install --upgrade gdown\n",
    "!pip install --upgrade numba\n",
    "!pip install --upgrade geopandas\n",
    "!pip install mapclassify\n",
    "!pip install --upgrade datascience\n",
    "!pip install --upgrade gym\n",
    "!pip install --upgrade folium\n",
    "!pip install raster_tools\n",
    "!pip install py3dep"
   ]
  },
  {
   "attachments": {},
   "cell_type": "markdown",
   "id": "b8108a3a-6ee9-46e2-9151-08d071d7ae8a",
   "metadata": {},
   "source": [
    "# The Process\n",
    "In this notebook we download USGS 3dep products that are publicly available and use raster_tools to perform clipping. At each step in the notebook we will discuss various aspects of the data, processing techniques, and visualization. After completing this notebook you should be very familiar with how to use the clipping module.\n",
    "## Steps\n",
    "- 1. Create an area of interest (Missoula MT; 46.8721° N, 113.9940° W)\n",
    "- 2. Use py3dep to download the dem for the area of interest\n",
    "- 3. Clip the elevation raster\n",
    "- 4. Visualize the outputs"
   ]
  },
  {
   "cell_type": "markdown",
   "id": "1a931bc6-6cb7-4624-b496-cf4f5964fb6c",
   "metadata": {},
   "source": [
    "## Step 1: Create an area of interest (Missoula MT; 46.8721° N, 113.9940° W)\n",
    "### Import various packages"
   ]
  },
  {
   "cell_type": "code",
   "execution_count": null,
   "id": "5d27e667-e1eb-47cf-a8e9-b74d1369e3c3",
   "metadata": {
    "tags": []
   },
   "outputs": [],
   "source": [
    "from raster_tools import Raster, clipping, general\n",
    "import py3dep\n",
    "import geopandas as gpd\n",
    "import numpy as np\n",
    "\n",
    "from shapely.geometry import shape, Polygon"
   ]
  },
  {
   "cell_type": "markdown",
   "id": "0a012218-5497-4c71-90dc-84b6871b38dd",
   "metadata": {},
   "source": [
    "### Define area of interest (AOI) using the coordinates of Missoula MT"
   ]
  },
  {
   "cell_type": "code",
   "execution_count": null,
   "id": "6a3dcc09-ba89-44ce-951a-22a409606764",
   "metadata": {
    "tags": []
   },
   "outputs": [],
   "source": [
    "loc = {\"type\": \"Point\", \"coordinates\": [-113.994, 46.8721]}\n",
    "\n",
    "geom = shape(loc)\n",
    "geom_buff = gpd.GeoSeries(\n",
    "    geom.buffer(0.02), crs=\"EPSG:4326\"\n",
    ")  # buffer out 0.02 degrees to get an area\n",
    "geom_buff.explore()  # visualize"
   ]
  },
  {
   "cell_type": "markdown",
   "id": "c3af42e5-00cc-4451-a21a-85c12aeba6bc",
   "metadata": {},
   "source": [
    "## Step 2: Get DEM data from USGS wms servers\n",
    "### Create a get_3dep_data function to download USGS data and return a Raster object"
   ]
  },
  {
   "cell_type": "code",
   "execution_count": null,
   "id": "97e77106-3325-4280-bcfa-dbb9bd8755d0",
   "metadata": {
    "tags": []
   },
   "outputs": [],
   "source": [
    "def get_3dep_data(sgeo, srv=\"DEM\", res=30, out_crs=None):\n",
    "    \"\"\"\n",
    "    downloads 3dep data from a specified service and resolution and returns a raster object\n",
    "\n",
    "    sgeo: object, polygon | mulipolygon | bounding box [minx, miny, maxx, maxy] used to extract data (WGS 84 - EPSG:4326)\n",
    "    srv: string, name of the 3dep service\n",
    "    res: int, spatial resolution\n",
    "    out_crs: object, optional crs used to project geopandas dataframe to a differnt crs\n",
    "\n",
    "    return: raster object\n",
    "    \"\"\"\n",
    "    ar = py3dep.get_map(srv, sgeo, resolution=res).expand_dims({\"band\": 1})\n",
    "    out_rs = Raster(ar)\n",
    "    if not out_crs is None:\n",
    "        out_rs = Raster(out_rs.xdata.rio.reproject(out_crs))\n",
    "\n",
    "    return out_rs"
   ]
  },
  {
   "cell_type": "markdown",
   "id": "1606e067-8132-4a6b-a2bd-bf23b8912a87",
   "metadata": {},
   "source": [
    "### Use get_3dep_data to download DEM for AOI (resolution 30 m) and save the raster."
   ]
  },
  {
   "cell_type": "code",
   "execution_count": null,
   "id": "27e4af30-a113-4a32-ad1d-d454c608faa3",
   "metadata": {
    "tags": []
   },
   "outputs": [],
   "source": [
    "elv = get_3dep_data(\n",
    "    list(geom_buff.total_bounds), srv=\"DEM\", res=30\n",
    ")  # data are returned in lat lon (WGS 84) with height in meters\n",
    "elv = elv.save(\"elv.tif\")"
   ]
  },
  {
   "attachments": {},
   "cell_type": "markdown",
   "id": "ad68b1f4",
   "metadata": {},
   "source": [
    "## Step3: Clip the elevation raster\n",
    "- clip\n",
    "- erase\n",
    "- mask\n",
    "- envelope\n",
    "- clip box"
   ]
  },
  {
   "cell_type": "code",
   "execution_count": null,
   "id": "ee1d882d",
   "metadata": {
    "tags": []
   },
   "outputs": [],
   "source": [
    "vct=clipping.get_vector(geom_buff)\n",
    "clip=clipping.clip(vct,elv)\n",
    "erase=clipping.erase(vct,elv)\n",
    "mask=clipping.mask(vct,elv)\n",
    "env=clipping.envelope(vct,elv)\n",
    "clipbox=clipping.clip_box(elv,geom_buff.total_bounds)\n",
    "rs=general.band_concat([elv,clip,erase,mask,env,clipbox])"
   ]
  },
  {
   "attachments": {},
   "cell_type": "markdown",
   "id": "9b08fe9a",
   "metadata": {},
   "source": [
    "## Step 4: Visualize the outputs"
   ]
  },
  {
   "cell_type": "code",
   "execution_count": null,
   "id": "3bb0fdcd",
   "metadata": {},
   "outputs": [],
   "source": [
    "rs.plot(col='band',col_wrap=3)"
   ]
  },
  {
   "attachments": {},
   "cell_type": "markdown",
   "id": "95a52ee7-9618-49b7-b912-5e13c75bd693",
   "metadata": {
    "tags": []
   },
   "source": [
    "# This ends the Raster Tools clip module notebook\n",
    "## Check out the other notebooks:\n",
    "- https://github.com/UM-RMRS/raster_tools/blob/main/notebooks/README.md\n",
    "## References\n",
    "- Raster-Tools GitHub: https://github.com/UM-RMRS/raster_tools\n",
    "- Hogland's Spatial Solutions: https://sites.google.com/view/hoglandsspatialsolutions/home\n",
    "- Dask: https://dask.org/\n",
    "- Geopandas:https://geopandas.org/en/stable/\n",
    "- Xarray: https://docs.xarray.dev/en/stable/\n",
    "- Jupyter: https://jupyter.org/\n",
    "- Anaconda:https://www.anaconda.com/\n",
    "- VS Code: https://code.visualstudio.com/\n",
    "- ipywidgets: https://ipywidgets.readthedocs.io/en/latest/\n",
    "- numpy:https://numpy.org/\n",
    "- matplotlib:https://matplotlib.org/\n",
    "- folium: https://python-visualization.github.io/folium/\n",
    "- pandas: https://pandas.pydata.org/\n",
    "- sklearn: https://scikit-learn.org/stable/index.html"
   ]
  }
 ],
 "metadata": {
  "kernelspec": {
   "display_name": "RStools Python 3.10",
   "language": "python",
   "name": "python3"
  },
  "language_info": {
   "codemirror_mode": {
    "name": "ipython",
    "version": 3
   },
   "file_extension": ".py",
   "mimetype": "text/x-python",
   "name": "python",
   "nbconvert_exporter": "python",
   "pygments_lexer": "ipython3",
   "version": "3.10.10"
  }
 },
 "nbformat": 4,
 "nbformat_minor": 5
}
